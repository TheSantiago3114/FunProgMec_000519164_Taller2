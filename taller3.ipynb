{
  "nbformat": 4,
  "nbformat_minor": 0,
  "metadata": {
    "colab": {
      "provenance": [],
      "authorship_tag": "ABX9TyNAMzatKg9m/E104bbahdyq",
      "include_colab_link": true
    },
    "kernelspec": {
      "name": "python3",
      "display_name": "Python 3"
    },
    "language_info": {
      "name": "python"
    }
  },
  "cells": [
    {
      "cell_type": "markdown",
      "metadata": {
        "id": "view-in-github",
        "colab_type": "text"
      },
      "source": [
        "<a href=\"https://colab.research.google.com/github/TheSantiago3114/FunProgMec_000519164_Taller2/blob/main/taller3.ipynb\" target=\"_parent\"><img src=\"https://colab.research.google.com/assets/colab-badge.svg\" alt=\"Open In Colab\"/></a>"
      ]
    },
    {
      "cell_type": "code",
      "execution_count": null,
      "metadata": {
        "id": "aP4EnVP5KCXL"
      },
      "outputs": [],
      "source": [
        "# Solicitar información al estudiante\n",
        "estrato = int(input(\"Ingrese su estrato socioeconómico: \"))\n",
        "residencia = input(\"¿Vive dentro o fuera de Montería? (Dentro/Fuera): \")\n",
        "edad = int(input(\"Ingrese su edad: \"))\n",
        "promedio = float(input(\"Ingrese su promedio ponderado proyectado del semestre: \"))\n",
        "\n",
        "# Definir variables de costo de vida\n",
        "if residencia.lower() == \"dentro\":\n",
        "    costo_transporte = 2800\n",
        "else:\n",
        "    costo_transporte = 3500\n",
        "costo_alimentacion = 20000\n",
        "costo_matricula = 5000000\n",
        "\n",
        "# Calcular costos totales\n",
        "gasto_transporte = costo_transporte * 2 * 20\n",
        "gasto_alimentacion = costo_alimentacion * 20\n",
        "gasto_matricula = costo_matricula\n",
        "gasto_total = gasto_transporte + gasto_alimentacion + gasto_matricula\n",
        "\n",
        "# Calcular apoyos de Chocolove\n",
        "if estrato == 1:\n",
        "    if edad < 18:\n",
        "        apoyo_transporte = 65000\n",
        "        apoyo_alimentacion = costo_alimentacion * 0.9\n",
        "    else:\n",
        "        apoyo_transporte = 50000\n",
        "        apoyo_alimentacion = costo_alimentacion * 0.7\n",
        "elif estrato == 2:\n",
        "    if edad < 18:\n",
        "        apoyo_transporte = 45000\n",
        "        apoyo_alimentacion = costo_alimentacion * 0.7\n",
        "    else:\n",
        "        apoyo_transporte = 30000\n",
        "        apoyo_alimentacion = costo_alimentacion * 0.5\n",
        "elif estrato == 3:\n",
        "    if edad < 18:\n",
        "        apoyo_transporte = 35000\n",
        "        apoyo_alimentacion = costo_alimentacion * 0.5\n",
        "    else:\n",
        "        apoyo_transporte = 20000\n",
        "        apoyo_alimentacion = costo_alimentacion * 0.3\n",
        "else:\n",
        "    apoyo_transporte = 0\n",
        "    apoyo_alimentacion = 0\n",
        "\n",
        "# Calcular apoyo de Chocolove a la matrícula\n",
        "if promedio > 4.8:\n",
        "    apoyo_matricula = costo_matricula\n",
        "elif promedio > 4.5:\n",
        "    apoyo_matricula = costo_matricula * 0.7\n",
        "elif promedio > 4.0:\n",
        "    apoyo_matricula = costo_matricula * 0.4\n",
        "else:\n",
        "    apoyo_matricula = 0\n",
        "\n",
        "# Calcular gasto total final\n",
        "gasto_total -= apoyo_transporte + apoyo_alimentacion + apoyo_matricula\n",
        "\n",
        "# Imprimir resultados\n",
        "print(\"Gasto total de transporte: $\", gasto_transporte)\n",
        "print(\"Gasto total de alimentación: $\", gasto_alimentacion)\n",
        "print(\"Gasto total de matrícula: $\", gasto_matricula)\n",
        "print(\"Apoyo de Chocolove en transporte: $\", apoyo_transporte)\n",
        "print(\"Apoyo de Chocolove en alimentación: $\", apoyo_alimentacion)\n",
        "print(\"Apoyo de Chocolove en matrícula: $\", apoyo_matricula)\n",
        "print(\"Gasto total mensual estimado: $\", gasto_total/4)"
      ]
    }
  ]
}