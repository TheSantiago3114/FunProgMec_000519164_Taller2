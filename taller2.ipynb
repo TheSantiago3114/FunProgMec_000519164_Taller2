{
  "nbformat": 4,
  "nbformat_minor": 0,
  "metadata": {
    "colab": {
      "provenance": [],
      "authorship_tag": "ABX9TyOy2qy2PIwh3BDD4FSiqsZp",
      "include_colab_link": true
    },
    "kernelspec": {
      "name": "python3",
      "display_name": "Python 3"
    },
    "language_info": {
      "name": "python"
    }
  },
  "cells": [
    {
      "cell_type": "markdown",
      "metadata": {
        "id": "view-in-github",
        "colab_type": "text"
      },
      "source": [
        "<a href=\"https://colab.research.google.com/github/TheSantiago3114/FunProgMec_000519164_Taller2/blob/main/taller2.ipynb\" target=\"_parent\"><img src=\"https://colab.research.google.com/assets/colab-badge.svg\" alt=\"Open In Colab\"/></a>"
      ]
    },
    {
      "cell_type": "markdown",
      "source": [
        "## Solucion taller 2\n",
        "## Fundamentos de programación - Ingeniería Mecánica UPB 202310\n",
        "\n",
        "- Santiago Andres Molina Rodriguez\n",
        "- 000519164\n",
        "-santiago.molina.r@upb.edu.co "
      ],
      "metadata": {
        "id": "MMiDNO1zzNEt"
      }
    },
    {
      "cell_type": "markdown",
      "source": [
        "## Problema 1\n",
        "Calcular y mostrar la posición de una partícula que experimenta movimiento uniformemente\n",
        "acelerado a partir de su posición inicial (𝑥0), velocidad inicial (𝑣0) y aceleración (𝑎) en dos instantes de\n",
        "tiempo diferentes. La posición en un instante de tiempo está dada por:"
      ],
      "metadata": {
        "id": "FJ3Eyzj9AvJz"
      }
    },
    {
      "cell_type": "code",
      "source": [
        "# tiempo\n",
        "\n",
        "t_1 = 3\n",
        "\n",
        "t_2 =10\n",
        "\n",
        "# posicion inicial \n",
        "\n",
        "x_0 = 5\n",
        "\n",
        "# velocidad inicial\n",
        "\n",
        "v_0 = 4 \n",
        "\n",
        "#aceleracion inicial\n",
        "\n",
        "a = -2\n",
        "\n",
        "c = 1/2\n",
        "\n",
        "x_1 = x_0 + v_0*t_1 + c*a*t_1**2\n",
        "print(x_1)\n",
        "\n",
        "x_2 = x_0 + v_0*t_2 + c*a*t_2**2\n",
        "print(x_2)"
      ],
      "metadata": {
        "colab": {
          "base_uri": "https://localhost:8080/"
        },
        "id": "fabTfYADzprR",
        "outputId": "afc8c89e-7a9b-44b7-f2fb-7c14838b27c8"
      },
      "execution_count": null,
      "outputs": [
        {
          "output_type": "stream",
          "name": "stdout",
          "text": [
            "8.0\n",
            "-55.0\n"
          ]
        }
      ]
    },
    {
      "cell_type": "markdown",
      "source": [
        "## Problema 2 \n",
        "Calcular y mostrar la distancia entre dos puntos 𝑃1 y 𝑃2 ubicados en las coordenadas (𝑥1, 𝑦1) y (𝑥2, 𝑦2). La distancia euclidiana se calcula con la ecuación:\n"
      ],
      "metadata": {
        "id": "u_ikvRtMA09q"
      }
    },
    {
      "cell_type": "code",
      "source": [
        "from re import X\n",
        "# distancia 1\n",
        "\n",
        "x_1 = 1\n",
        "x_2 = -1\n",
        "y_1 = 1\n",
        "y_2 = -1\n",
        "\n",
        "d_1 = ((x_2 - x_1)**2 + (y_2 - y_1)**2)**0.5\n",
        "print(d_1)\n",
        "\n",
        "# distancia 2\n",
        "\n",
        "x_1 = -2\n",
        "x_2 = 4\n",
        "y_1 = 0\n",
        "y_2 = 5\n",
        "\n",
        "d_2 = ((x_2 - x_1)**2 + (y_2 - y_1)**2)**0.5\n",
        "print(d_2)"
      ],
      "metadata": {
        "colab": {
          "base_uri": "https://localhost:8080/"
        },
        "id": "bTm1dDSB6HwR",
        "outputId": "f2acf02c-0b3d-4d6d-cb13-482efa242987"
      },
      "execution_count": 1,
      "outputs": [
        {
          "output_type": "stream",
          "name": "stdout",
          "text": [
            "2.8284271247461903\n",
            "7.810249675906654\n"
          ]
        }
      ]
    },
    {
      "cell_type": "markdown",
      "source": [
        "## Problema 3\n",
        "Imprime el resultado de las siguientes operaciones lógicas:\n"
      ],
      "metadata": {
        "id": "EgUx6NX9BWAb"
      }
    },
    {
      "cell_type": "code",
      "source": [
        "A = -3\n",
        "B = 3\n",
        "C = 4\n",
        "D = 0\n",
        "\n",
        "print(A <= B)\n",
        "print(B > C)\n",
        "print((A != C) and (D > A))\n",
        "print((B < C) or (B > A))\n",
        "print(A != D)\n",
        "print((A - D) > C)\n",
        "print((D + C) >= (A * B))\n",
        "print(((A * C) == 10) or ((B * A) < 3))\n",
        "print((B * C + D) > (D * 5))\n",
        "print((2 * A) == -(D * 4))"
      ],
      "metadata": {
        "colab": {
          "base_uri": "https://localhost:8080/"
        },
        "id": "g-wvF1GU8B4o",
        "outputId": "2bd111f2-864d-4ad7-ff61-8a843f18603b"
      },
      "execution_count": null,
      "outputs": [
        {
          "output_type": "stream",
          "name": "stdout",
          "text": [
            "True\n",
            "False\n",
            "True\n",
            "True\n",
            "True\n",
            "False\n",
            "True\n",
            "True\n",
            "True\n",
            "False\n"
          ]
        }
      ]
    }
  ]
}